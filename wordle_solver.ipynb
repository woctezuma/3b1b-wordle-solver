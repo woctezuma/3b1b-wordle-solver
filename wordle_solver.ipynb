{
  "nbformat": 4,
  "nbformat_minor": 0,
  "metadata": {
    "colab": {
      "name": "wordle_solver.ipynb",
      "private_outputs": true,
      "provenance": [],
      "collapsed_sections": []
    },
    "kernelspec": {
      "name": "python3",
      "display_name": "Python 3"
    },
    "language_info": {
      "name": "python"
    },
    "gpuClass": "standard"
  },
  "cells": [
    {
      "cell_type": "markdown",
      "source": [
        "# 3Blue1Brown's Wordle solver\n",
        "Reference: https://github.com/woctezuma/3b1b-wordle-solver\n"
      ],
      "metadata": {
        "id": "MMJ8iLGo7eTY"
      }
    },
    {
      "cell_type": "markdown",
      "source": [
        "## Installation"
      ],
      "metadata": {
        "id": "bDHZElKS7j7v"
      }
    },
    {
      "cell_type": "code",
      "execution_count": null,
      "metadata": {
        "id": "R_1YAhbAxKLn"
      },
      "outputs": [],
      "source": [
        "%cd /content\n",
        "!git clone https://github.com/woctezuma/3b1b-wordle-solver.git\n",
        "%cd 3b1b-wordle-solver\n",
        "%pip install -q -r requirements.txt"
      ]
    },
    {
      "cell_type": "markdown",
      "source": [
        "## Pre-computed pattern matrices"
      ],
      "metadata": {
        "id": "qvz6BfbI7mXq"
      }
    },
    {
      "cell_type": "code",
      "source": [
        "url=\"https://github.com/woctezuma/3b1b-wordle-solver/releases/download/wordle/pattern_matrix.npy\"\n",
        "!wget {url} -P data/wordle"
      ],
      "metadata": {
        "id": "riSN3Sul7X5q"
      },
      "execution_count": null,
      "outputs": []
    },
    {
      "cell_type": "code",
      "source": [
        "url=\"https://github.com/woctezuma/3b1b-wordle-solver/releases/download/dungleon/pattern_matrix.npy\"\n",
        "!wget {url} -P data/dungleon"
      ],
      "metadata": {
        "id": "VGJJruip7vTh"
      },
      "execution_count": null,
      "outputs": []
    },
    {
      "cell_type": "markdown",
      "source": [
        "## Run simulations"
      ],
      "metadata": {
        "id": "fi5HbR2P7pV3"
      }
    },
    {
      "cell_type": "code",
      "source": [
        "!python simulations.py -h"
      ],
      "metadata": {
        "id": "HvRj-dvGmxEU"
      },
      "execution_count": null,
      "outputs": []
    },
    {
      "cell_type": "code",
      "source": [
        "!python simulations.py --game-name wordle"
      ],
      "metadata": {
        "id": "esu-lfra4gk3"
      },
      "execution_count": null,
      "outputs": []
    },
    {
      "cell_type": "code",
      "source": [
        "!python simulations.py --game-name dungleon --first-guess ZBCFS --test-answer WSGCO --hard-mode"
      ],
      "metadata": {
        "id": "dzE4IqBwQ7Xy"
      },
      "execution_count": null,
      "outputs": []
    },
    {
      "cell_type": "markdown",
      "source": [
        "NB: for Dungleon, the letters associated with each character are shown [on this page](https://github.com/woctezuma/dungleon-bot/blob/main/data/README.md)."
      ],
      "metadata": {
        "id": "2YOWQ1ZnfDY2"
      }
    },
    {
      "cell_type": "markdown",
      "source": [
        "## Limit Dungleon solutions to these already encountered"
      ],
      "metadata": {
        "id": "bNAsLJx7lB11"
      }
    },
    {
      "cell_type": "code",
      "source": [
        "%mv data/dungleon/possible_words.seen.txt data/dungleon/possible_words.txt"
      ],
      "metadata": {
        "id": "D6bhgRtekppO"
      },
      "execution_count": null,
      "outputs": []
    },
    {
      "cell_type": "code",
      "source": [
        "!python simulations.py --game-name dungleon --first-guess AWOCS --test-answer VMIFI --hard-mode"
      ],
      "metadata": {
        "id": "DB8XmxQHj46f"
      },
      "execution_count": null,
      "outputs": []
    }
  ]
}